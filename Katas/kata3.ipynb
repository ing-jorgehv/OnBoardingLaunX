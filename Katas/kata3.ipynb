{
 "cells": [
  {
   "cell_type": "markdown",
   "metadata": {},
   "source": [
    "# Primer problema\n",
    "\n",
    "### Añadir el código necesario para crear una variable que guarde la velocidad del asteroide.\n",
    "### Escribe una expresión de prueba para calcular si necesita una advertencia.\n",
    "### Agregue las instrucciones que se ejecutarán si la expresión de prueba es true o false."
   ]
  },
  {
   "cell_type": "code",
   "execution_count": 1,
   "metadata": {},
   "outputs": [
    {
     "name": "stdout",
     "output_type": "stream",
     "text": [
      "Un asteriode se acerca a la Tierra demasiado rápido\n"
     ]
    }
   ],
   "source": [
    "asteroide = 49\n",
    "if asteroide > 25:\n",
    "    print('Un asteriode se acerca a la Tierra demasiado rápido')\n",
    "else:\n",
    "    print('No existe ningún asteriode cerca')"
   ]
  },
  {
   "cell_type": "markdown",
   "metadata": {},
   "source": [
    "# Segundo problema\n",
    "\n",
    "### Agrega el código para crear una variable para un asteroide que viaja a 19 km/s\n",
    "### Escribe varias expresiones de prueba para determinar si puedes ver el rayo de luz desde la tierra\n",
    "### Agrega las instrucciones que se ejecutarán si las expresiones de prueba son True o False"
   ]
  },
  {
   "cell_type": "code",
   "execution_count": 5,
   "metadata": {},
   "outputs": [
    {
     "name": "stdout",
     "output_type": "stream",
     "text": [
      "No hay asteriodes visibles desde la Tierra\n"
     ]
    }
   ],
   "source": [
    "asteroide = 19\n",
    "if asteroide == 20:\n",
    "    print('Hay un asteriode visible en el cielo')\n",
    "elif asteroide > 20:\n",
    "    print('Un rayo de luz de un asteroide es visible desde la Tierra')\n",
    "else:\n",
    "    print('No hay asteriodes visibles desde la Tierra')"
   ]
  },
  {
   "cell_type": "markdown",
   "metadata": {},
   "source": [
    "# Tercer problema\n",
    "\n",
    "### Agrega el código para crear nuevas variables para la velocidad y el tamaño del asteroide\n",
    "### Para probar el código, prueba con varias velocidades y tamaños\n",
    "### Escribe varias expresiones de prueba o combinaciones de expresiones de prueba para determinar qué mensaje se debe enviar a Tierra."
   ]
  },
  {
   "cell_type": "code",
   "execution_count": 11,
   "metadata": {},
   "outputs": [
    {
     "name": "stdout",
     "output_type": "stream",
     "text": [
      "Un asteroide de gran tamaño se acerca a la Tierra\n"
     ]
    }
   ],
   "source": [
    "vel_asteroide = 26\n",
    "tam_asteroide = 90\n",
    "if tam_asteroide > 25 and tam_asteroide < 1000:\n",
    "    print('Un asteroide de gran tamaño se acerca a la Tierra')\n",
    "elif vel_asteroide > 25:\n",
    "    print('Un asteroide se acerca rápidamente a la Tierra')\n",
    "elif vel_asteroide >= 20:\n",
    "    print('Un rayo de luz de un asteroide es visible desde la Tierra')\n",
    "else:\n",
    "    print('No hay asteriodes cerca de la Tierra')"
   ]
  }
 ],
 "metadata": {
  "interpreter": {
   "hash": "8fef7281c1555fbb16ff535e14553ef8851baf88c8e60864a54a32786f13f59e"
  },
  "kernelspec": {
   "display_name": "Python 3.9.7 64-bit",
   "language": "python",
   "name": "python3"
  },
  "language_info": {
   "codemirror_mode": {
    "name": "ipython",
    "version": 3
   },
   "file_extension": ".py",
   "mimetype": "text/x-python",
   "name": "python",
   "nbconvert_exporter": "python",
   "pygments_lexer": "ipython3",
   "version": "3.9.7"
  },
  "orig_nbformat": 4
 },
 "nbformat": 4,
 "nbformat_minor": 2
}
